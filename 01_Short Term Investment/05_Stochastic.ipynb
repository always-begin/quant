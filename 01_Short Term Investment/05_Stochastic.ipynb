{
 "cells": [
  {
   "attachments": {},
   "cell_type": "markdown",
   "metadata": {},
   "source": [
    "# Short Term Investment\n",
    "\n",
    "## Stochastic\n",
    "\n",
    "\n",
    "\n",
    "![picture 1](../images/8f13fb47af9892c491ef93aec041115b5440af01fd6c246dd2ff241101be8682.png)  \n",
    "\n",
    "![picture 2](../images/6ce78111cebba7a346007d3d3d1f2ff80859f85f8d9e60c008b0e55abfe2ee31.png)  \n",
    "\n",
    "\n",
    "Slow K : 스토캐스틱 전략은 들쭉 날쭉이 심하다. 이를 유연화 하기 위해서 이동평균을 사용한다. \n",
    "- 스토캐스틱의 이동 평균 값\n",
    "\n",
    "Sow D : Slow K 를 한번더 유연화 하기 위해서 Slow K 를 다시 한번 이동편균 한 값\n",
    "\n",
    "\n",
    "### 전략 1 : 평균 회귀\n",
    "\n",
    "Slow K is under the 20 -> 과매도 구간 : 저렴 - 매수\n",
    "\n",
    "Slow k is over than 80 -> 과매수 구간 : 비쌈 - 매도\n",
    "\n",
    "### 전략 2 : 모멘텀 투자\n",
    "\n",
    "Slow K - Slow D > 0 : 상승 추세 - 매수\n",
    "\n",
    "Slow K - Slow D < 0 : 하락 추세 - 매도\n",
    "\n"
   ]
  },
  {
   "cell_type": "code",
   "execution_count": 1,
   "metadata": {},
   "outputs": [],
   "source": [
    "import os, sys\n",
    "import pandas as pd\n",
    "import numpy as np\n",
    "from datetime import datetime\n",
    "import finterstellar as fs\n",
    "import json\n",
    "sys.path.append('../')\n",
    "from stock import *"
   ]
  },
  {
   "cell_type": "code",
   "execution_count": 8,
   "metadata": {},
   "outputs": [
    {
     "name": "stdout",
     "output_type": "stream",
     "text": [
      "Error. The stochastic indicator requires OHLC data and symbol. Try get_ohlc() to retrieve price data.\n"
     ]
    },
    {
     "ename": "TypeError",
     "evalue": "string indices must be integers, not 'str'",
     "output_type": "error",
     "traceback": [
      "\u001b[0;31m---------------------------------------------------------------------------\u001b[0m",
      "\u001b[0;31mTypeError\u001b[0m                                 Traceback (most recent call last)",
      "Cell \u001b[0;32mIn[8], line 5\u001b[0m\n\u001b[1;32m      2\u001b[0m dal_stochastic \u001b[39m=\u001b[39m get_stochastic(dal, factor\u001b[39m=\u001b[39m\u001b[39m'\u001b[39m\u001b[39mDAL\u001b[39m\u001b[39m'\u001b[39m)\n\u001b[1;32m      4\u001b[0m \u001b[39mprint\u001b[39m(\u001b[39mf\u001b[39m\u001b[39m'\u001b[39m\u001b[39m{\u001b[39;00mdal_stochastic\u001b[39m}\u001b[39;00m\u001b[39m'\u001b[39m)\n\u001b[0;32m----> 5\u001b[0m draw_chart(dal_stochastic, left\u001b[39m=\u001b[39;49m\u001b[39m'\u001b[39;49m\u001b[39mslow_k\u001b[39;49m\u001b[39m'\u001b[39;49m, right\u001b[39m=\u001b[39;49m\u001b[39m\"\u001b[39;49m\u001b[39mDAL\u001b[39;49m\u001b[39m\"\u001b[39;49m)\n",
      "File \u001b[0;32m~/Documents/quant/01_Short Term Investment/../stock/chart.py:12\u001b[0m, in \u001b[0;36mdraw_chart\u001b[0;34m(dataframe, left, right)\u001b[0m\n\u001b[1;32m     11\u001b[0m \u001b[39mdef\u001b[39;00m \u001b[39mdraw_chart\u001b[39m(dataframe, left\u001b[39m=\u001b[39m\u001b[39mNone\u001b[39;00m, right\u001b[39m=\u001b[39m\u001b[39m'\u001b[39m\u001b[39mClose\u001b[39m\u001b[39m'\u001b[39m):\n\u001b[0;32m---> 12\u001b[0m   fs\u001b[39m.\u001b[39;49mdraw_chart(dataframe, left, right)\n",
      "File \u001b[0;32m/usr/local/lib/python3.11/site-packages/finterstellar/visualization.py:42\u001b[0m, in \u001b[0;36mdraw_chart\u001b[0;34m(df, left, right, log)\u001b[0m\n\u001b[1;32m     40\u001b[0m i \u001b[39m=\u001b[39m \u001b[39m6\u001b[39m\n\u001b[1;32m     41\u001b[0m \u001b[39mfor\u001b[39;00m c \u001b[39min\u001b[39;00m left:\n\u001b[0;32m---> 42\u001b[0m     ax1\u001b[39m.\u001b[39mplot(x, df[c], label\u001b[39m=\u001b[39mc, color\u001b[39m=\u001b[39m\u001b[39m'\u001b[39m\u001b[39mC\u001b[39m\u001b[39m'\u001b[39m\u001b[39m+\u001b[39m\u001b[39mstr\u001b[39m(i), alpha\u001b[39m=\u001b[39m\u001b[39m1\u001b[39m)\n\u001b[1;32m     43\u001b[0m     i \u001b[39m+\u001b[39m\u001b[39m=\u001b[39m \u001b[39m1\u001b[39m\n\u001b[1;32m     44\u001b[0m \u001b[39mif\u001b[39;00m log:\n",
      "\u001b[0;31mTypeError\u001b[0m: string indices must be integers, not 'str'"
     ]
    },
    {
     "data": {
      "image/png": "[encoded data removed]",
      "text/plain": [
       "<Figure size 1000x500 with 1 Axes>"
      ]
     },
     "metadata": {},
     "output_type": "display_data"
    }
   ],
   "source": [
    "dal = get_ohlc('DAL',datetime(2020, 1,1), datetime(2021,1,1))\n",
    "dal_stochastic = get_stochastic(dal, factor='DAL')\n",
    "\n",
    "print(f'{dal_stochastic}')\n",
    "draw_chart(dal_stochastic, left='slow_k', right=\"DAL\")\n"
   ]
  },
  {
   "cell_type": "code",
   "execution_count": null,
   "metadata": {},
   "outputs": [],
   "source": [
    "add_signal_df(dal_stochastic, 'slow_k', 20, 80)\n",
    "\n",
    "draw_chart(dal_stochastic, left = 'Close', right ='position_chart')\n",
    "\n",
    "dal_stochastic_eval, result = get_evaluate_column(dal_stochastic)\n",
    "\n",
    "draw_trade_results(dal_stochastic_eval)\n"
   ]
  },
  {
   "cell_type": "code",
   "execution_count": null,
   "metadata": {},
   "outputs": [],
   "source": [
    "change_sto = get_stochastic(dal)\n",
    "change_sto['indi'] = change_sto['slow_k'] - change_sto['slow_d']\n",
    "add_signal_df(change_sto, 'indi', 0, 0)\n",
    "\n",
    "add_position_df(change_sto)\n",
    "sto_eval, result= get_evaluate_column(change_sto)\n",
    "draw_trade_results(sto_eval)"
   ]
  }
 ],
 "metadata": {
  "kernelspec": {
   "display_name": "base",
   "language": "python",
   "name": "python3"
  },
  "language_info": {
   "codemirror_mode": {
    "name": "ipython",
    "version": 3
   },
   "file_extension": ".py",
   "mimetype": "text/x-python",
   "name": "python",
   "nbconvert_exporter": "python",
   "pygments_lexer": "ipython3",
   "version": "3.11.2"
  },
  "orig_nbformat": 4
 },
 "nbformat": 4,
 "nbformat_minor": 2
}
