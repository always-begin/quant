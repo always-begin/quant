{
 "cells": [
  {
   "attachments": {},
   "cell_type": "markdown",
   "metadata": {},
   "source": [
    "# Backtest Results Analysis\n",
    "\n",
    "## CAGR Compound Annual Growth rate\n",
    "\n",
    "특정 기간의 수익률을 유지한다고 했을 때의 수익률\n",
    "\n",
    "누적 수익률`Accumulated return`을 연평균 수익률로 환산해서 구함\n",
    "\n",
    "if more than 1 year\n",
    "- 복리\n",
    "\n",
    "else\n",
    "- 단리\n",
    "\n",
    "```python\n",
    "def __annualize(rate, period):\n",
    "    if period < 360:\n",
    "        rate = ((rate-1) / period * 365) + 1\n",
    "    elif period > 365:\n",
    "        rate = rate ** (365 / period)\n",
    "    else:\n",
    "        rate = rate\n",
    "    return round(rate, 4)\n",
    "\n",
    "```\n",
    "\n",
    "## Average return\n",
    "평균 수익률\n",
    "\n",
    "|ex/cur|buy|zero|\n",
    "|--|--|--|\n",
    "|buy| have_wait | sell |\n",
    "|zero|buy| zero_wait|\n",
    "\n",
    "\n",
    "\n",
    "```python\n",
    "\n",
    "    record = df[['position','signal_price']].dropna()\n",
    "    record['rtn'] = 1\n",
    "    record['rtn'].mask(record['position']=='lz', (record['signal_price']*(1-cost))/record['signal_price'].shift(1), inplace=True)\n",
    "    # 수수료 뺀 curent 가격에서 지난 가격으로 나눔 \n",
    "\n",
    "    rst['avg_rtn'] = round(df[df['rtn']!=1]['rtn'].mean(), 4)\n",
    "    # rtn이 값을 넣어준 값에 대해서만 평균을 구함\n",
    "\n",
    "    # data frame인 rtn을 보면 lz 구매한 시점을 record['signal_price'].shift(1) 로 가져온다, 사이에 있는 값들이 NaN이라 무시된다.\n",
    "\n",
    "```\n",
    "\n",
    "## Banchmark return 밴치마크\n",
    "\n",
    "보통 지수를 벤치마크함\n",
    "\n",
    "## Hit ratio\n",
    "\n",
    "`Number of Win` / `Number of trades`\n",
    "\n",
    "``` python\n",
    "\n",
    "    rst['no_trades'] = (df['position']=='zl').sum()\n",
    "    rst['no_win'] = (df['rtn']>1).sum()\n",
    "\n",
    "```\n",
    "\n",
    "## Sharpe ratio\n"
   ]
  }
 ],
 "metadata": {
  "kernelspec": {
   "display_name": "base",
   "language": "python",
   "name": "python3"
  },
  "language_info": {
   "name": "python",
   "version": "3.9.13"
  },
  "orig_nbformat": 4,
  "vscode": {
   "interpreter": {
    "hash": "e9aab877aa08be2f4b0d7604bace0a1d14c63dc4200e95803e2eb31da8f30fa2"
   }
  }
 },
 "nbformat": 4,
 "nbformat_minor": 2
}
