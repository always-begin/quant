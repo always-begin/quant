{
 "cells": [
  {
   "attachments": {},
   "cell_type": "markdown",
   "metadata": {},
   "source": [
    "# Value investment\n",
    "\n",
    "미주 재무 제표 - EDGAR\n",
    "\n",
    "국주 재무 제표 - DART\n",
    "\n",
    "## 대표적인 지표\n",
    "\n",
    "![picture 1](../images/f8c07b5e71e35888bca3b54603ec6f4f0a566da9f8e42d4f57857b36dab8e7c3.png)  \n",
    "\n",
    "### ROE : REturn on Equity \n",
    "\n",
    "투자 수익률, 이익/자본\n",
    "\n",
    "### PBR : Price Book Ratio\n",
    "\n",
    "주가 순 자산 비율\n",
    "\n",
    "주가/자본\n",
    "\n",
    "### PER : Price Earning\n",
    "\n",
    "\n",
    "주가 순익 비율\n",
    "\n",
    "주가/이익\n",
    "\n",
    "\n",
    "![picture 2](../images/e182e773a7b0371a125da765b85b2bec89860026192248531a6c28180299d955.png)  \n",
    "\n",
    "\n",
    "## 재무 상태표\n",
    "\n",
    "Asset,Libility,equity, current / non-current\n",
    "총 자산,총 부채, 총 자본, 유동성/비유동성\n",
    "\n",
    "### Statements of Cash Flows\n",
    "\n",
    "Cash Flow from operation Activities, Operating Cash Flow : CFO\n",
    "- 영업 현금 흐름 : 장사를 많이, 돈을 빨리 받을 수록 증가\n",
    "\n",
    "Cash Flow from investing activities, investing cash flow : CFI\n",
    "- 투자 현금 흐름 : 공장, 투자 등 투자에 들어가 있는 현금\n",
    "- 미래에 대한 준비를 옅 볼 수 있다\n",
    "\n",
    "Cash Flow from fiancing activities, Fiancing Cash Flow : CFF\n",
    "- 재무 현금 흐름 : 채무 상환, 배당금 지급이면 마이너스, 대출 받으면 증가\n",
    "\n",
    "### Financial Ratios : 재무 비율\n",
    "\n",
    "![picture 3](../images/8f343797a4fbc7521f32e470a056d417ddf0bf3fffc23ecf6c13fa70f22fdca3.png)  \n",
    "\n",
    "\n",
    "절대 값이 아닌 상대 값을 봐야 한다\n"
   ]
  }
 ],
 "metadata": {
  "kernelspec": {
   "display_name": "base",
   "language": "python",
   "name": "python3"
  },
  "language_info": {
   "name": "python",
   "version": "3.9.13"
  },
  "orig_nbformat": 4,
  "vscode": {
   "interpreter": {
    "hash": "e9aab877aa08be2f4b0d7604bace0a1d14c63dc4200e95803e2eb31da8f30fa2"
   }
  }
 },
 "nbformat": 4,
 "nbformat_minor": 2
}
