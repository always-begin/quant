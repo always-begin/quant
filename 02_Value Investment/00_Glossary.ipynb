{
 "cells": [
  {
   "attachments": {},
   "cell_type": "markdown",
   "metadata": {},
   "source": []
  }
 ],
 "metadata": {
  "kernelspec": {
   "display_name": "base",
   "language": "python",
   "name": "python3"
  },
  "language_info": {
   "name": "python",
   "version": "3.9.13"
  },
  "orig_nbformat": 4,
  "vscode": {
   "interpreter": {
    "hash": "e9aab877aa08be2f4b0d7604bace0a1d14c63dc4200e95803e2eb31da8f30fa2"
   }
  }
 },
 "nbformat": 4,
 "nbformat_minor": 2
}
